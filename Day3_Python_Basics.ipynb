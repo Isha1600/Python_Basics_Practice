{
  "nbformat": 4,
  "nbformat_minor": 0,
  "metadata": {
    "colab": {
      "provenance": [],
      "authorship_tag": "ABX9TyOIJeWGx6/Vc8KMAa+eeHbo",
      "include_colab_link": true
    },
    "kernelspec": {
      "name": "python3",
      "display_name": "Python 3"
    },
    "language_info": {
      "name": "python"
    }
  },
  "cells": [
    {
      "cell_type": "markdown",
      "metadata": {
        "id": "view-in-github",
        "colab_type": "text"
      },
      "source": [
        "<a href=\"https://colab.research.google.com/github/Isha1600/Python_Basics_Practice/blob/main/Day3_Python_Basics.ipynb\" target=\"_parent\"><img src=\"https://colab.research.google.com/assets/colab-badge.svg\" alt=\"Open In Colab\"/></a>"
      ]
    },
    {
      "cell_type": "code",
      "execution_count": null,
      "metadata": {
        "id": "ZYH4-0qCh9vp",
        "colab": {
          "base_uri": "https://localhost:8080/"
        },
        "outputId": "6c2dfcd5-38d3-4cf3-da37-f29d999e73d2"
      },
      "outputs": [
        {
          "output_type": "stream",
          "name": "stdout",
          "text": [
            "Even number\n"
          ]
        }
      ],
      "source": [
        "n = 10\n",
        "\n",
        "if n % 2 == 0:\n",
        "    print(\"Even number\")\n",
        "else:\n",
        "    print(\"Odd number\")\n"
      ]
    },
    {
      "cell_type": "code",
      "source": [
        "a = 8\n",
        "b = 12\n",
        "\n",
        "if a > b:\n",
        "    print(\"a is greater\")\n",
        "else:\n",
        "    print(\"b is greater\")\n"
      ],
      "metadata": {
        "colab": {
          "base_uri": "https://localhost:8080/"
        },
        "id": "fFCDP5nRrM29",
        "outputId": "358ae22f-df8f-40ec-bcd8-c14f3cb3111f"
      },
      "execution_count": null,
      "outputs": [
        {
          "output_type": "stream",
          "name": "stdout",
          "text": [
            "b is greater\n"
          ]
        }
      ]
    },
    {
      "cell_type": "code",
      "source": [
        "marks = 85\n",
        "\n",
        "if marks >= 90:\n",
        "    print(\"Grade: A+\")\n",
        "elif marks >= 75:\n",
        "    print(\"Grade: A\")\n",
        "elif marks >= 60:\n",
        "    print(\"Grade: B\")\n",
        "else:\n",
        "    print(\"Grade: C\")\n"
      ],
      "metadata": {
        "colab": {
          "base_uri": "https://localhost:8080/"
        },
        "id": "thzNpxP7rThL",
        "outputId": "9139c680-8065-4374-869d-ebb29c260a07"
      },
      "execution_count": null,
      "outputs": [
        {
          "output_type": "stream",
          "name": "stdout",
          "text": [
            "Grade: A\n"
          ]
        }
      ]
    },
    {
      "cell_type": "code",
      "source": [
        "numbers = [1, 2, 3, 4, 5, 6, 7]\n",
        "for n in numbers:\n",
        "    if n % 2 == 0:\n",
        "        print(n)\n"
      ],
      "metadata": {
        "colab": {
          "base_uri": "https://localhost:8080/"
        },
        "id": "hPYdimU39fYU",
        "outputId": "7cab3f09-aacd-43ad-af36-f13e43963ae3"
      },
      "execution_count": null,
      "outputs": [
        {
          "output_type": "stream",
          "name": "stdout",
          "text": [
            "2\n",
            "4\n",
            "6\n"
          ]
        }
      ]
    },
    {
      "cell_type": "code",
      "source": [
        "n = -125\n",
        "\n",
        "if n > 0:\n",
        "  print(\"Positive Number\")\n",
        "  if n % 2 == 0:\n",
        "    print(\"Even Number\")\n",
        "  else:\n",
        "    print(\"Odd Number\")\n",
        "    if n > 100:\n",
        "      print(\"Large Number\")\n",
        "    else:\n",
        "      print(\"Small Number\")\n",
        "elif n == 0:\n",
        "  print(\"Zero\")\n",
        "else:\n",
        "  print(\"Negative Number\")\n",
        "  if n % 2 == 0:\n",
        "    print(\"Even Number\")\n",
        "  else:\n",
        "    print(\"Odd Number\")\n",
        "    if n > 100:\n",
        "      print(\"Large Number\")\n",
        "    else:\n",
        "      print(\"Small Number\")\n"
      ],
      "metadata": {
        "colab": {
          "base_uri": "https://localhost:8080/"
        },
        "id": "rXgSqZpAKHQp",
        "outputId": "ff3886eb-9742-45eb-8810-53e2404dcc92"
      },
      "execution_count": null,
      "outputs": [
        {
          "output_type": "stream",
          "name": "stdout",
          "text": [
            "Negative Number\n",
            "Odd Number\n",
            "Small Number\n"
          ]
        }
      ]
    },
    {
      "cell_type": "code",
      "metadata": {
        "colab": {
          "base_uri": "https://localhost:8080/"
        },
        "id": "182fcb78",
        "outputId": "8462ce10-b867-4e95-e09e-7b0b6a338555"
      },
      "source": [
        "age = 25\n",
        "if age >= 18:\n",
        "    print(\"Eligible to vote\")\n",
        "else:\n",
        "    print(\"Not eligible to vote\")"
      ],
      "execution_count": null,
      "outputs": [
        {
          "output_type": "stream",
          "name": "stdout",
          "text": [
            "Eligible to vote\n"
          ]
        }
      ]
    },
    {
      "cell_type": "code",
      "metadata": {
        "colab": {
          "base_uri": "https://localhost:8080/"
        },
        "outputId": "ff5f01db-4d39-406a-bfd2-4b3195188921",
        "id": "EYThp4VNMMvj"
      },
      "source": [
        "age = 10\n",
        "if age >= 18:\n",
        "    print(\"Eligible to vote\")\n",
        "else:\n",
        "    print(\"Not eligible to vote\")"
      ],
      "execution_count": null,
      "outputs": [
        {
          "output_type": "stream",
          "name": "stdout",
          "text": [
            "Not eligible to vote\n"
          ]
        }
      ]
    },
    {
      "cell_type": "code",
      "source": [
        "mood = \"happy\"\n",
        "if mood == \"happy\":\n",
        "    print(\"Isha loves Python\")\n",
        "else:\n",
        "    print(\"I am not happy\")"
      ],
      "metadata": {
        "colab": {
          "base_uri": "https://localhost:8080/"
        },
        "id": "7z_rfJuwMUTQ",
        "outputId": "aaa303c9-b31b-4c50-bf9a-4850974ff0c8"
      },
      "execution_count": null,
      "outputs": [
        {
          "output_type": "stream",
          "name": "stdout",
          "text": [
            "Isha loves Python\n"
          ]
        }
      ]
    },
    {
      "cell_type": "code",
      "source": [
        "n = 0\n",
        "\n",
        "if n > 0:\n",
        "  print(\"Positive Number\")\n",
        "  if n % 2 == 0:\n",
        "    print(\"Even Number\")\n",
        "  else:\n",
        "    print(\"Odd Number\")\n",
        "    if n > 100:\n",
        "      print(\"Large Number\")\n",
        "    else:\n",
        "      print(\"Small Number\")\n",
        "elif n == 0:\n",
        "  print(\"Zero\")\n",
        "else:\n",
        "  print(\"Negative Number\")\n",
        "  if n % 2 == 0:\n",
        "    print(\"Even Number\")\n",
        "  else:\n",
        "    print(\"Odd Number\")\n",
        "    if n > 100:\n",
        "      print(\"Large Number\")\n",
        "    else:\n",
        "      print(\"Small Number\")\n"
      ],
      "metadata": {
        "colab": {
          "base_uri": "https://localhost:8080/"
        },
        "outputId": "d3a31a4e-79b6-4cd3-96fc-985ca94bb1c0",
        "id": "HiwRxBhyL-T-"
      },
      "execution_count": null,
      "outputs": [
        {
          "output_type": "stream",
          "name": "stdout",
          "text": [
            "Zero\n"
          ]
        }
      ]
    },
    {
      "cell_type": "code",
      "source": [
        "n = 225\n",
        "\n",
        "if n > 0:\n",
        "  print(\"Positive Number\")\n",
        "  if n % 2 == 0:\n",
        "    print(\"Even Number\")\n",
        "  else:\n",
        "    print(\"Odd Number\")\n",
        "    if n > 100:\n",
        "      print(\"Large Number\")\n",
        "    else:\n",
        "      print(\"Small Number\")\n",
        "elif n == 0:\n",
        "  print(\"Zero\")\n",
        "else:\n",
        "  print(\"Negative Number\")\n",
        "  if n % 2 == 0:\n",
        "    print(\"Even Number\")\n",
        "  else:\n",
        "    print(\"Odd Number\")\n",
        "    if n > 100:\n",
        "      print(\"Large Number\")\n",
        "    else:\n",
        "      print(\"Small Number\")\n"
      ],
      "metadata": {
        "colab": {
          "base_uri": "https://localhost:8080/"
        },
        "outputId": "33bef1bc-bcb5-498d-8dc4-994367ab9497",
        "id": "FiUro2cuL6nI"
      },
      "execution_count": null,
      "outputs": [
        {
          "output_type": "stream",
          "name": "stdout",
          "text": [
            "Positive Number\n",
            "Odd Number\n",
            "Large Number\n"
          ]
        }
      ]
    },
    {
      "cell_type": "code",
      "source": [
        "mood = \"unhappy\"\n",
        "if mood == \"happy\":\n",
        "    print(\"Isha loves Python\")\n",
        "else:\n",
        "    print(\"I am not happy\")"
      ],
      "metadata": {
        "colab": {
          "base_uri": "https://localhost:8080/"
        },
        "outputId": "dd575844-452d-4428-c00b-2c0dfb986df2",
        "id": "uDbA3jB1M5I7"
      },
      "execution_count": null,
      "outputs": [
        {
          "output_type": "stream",
          "name": "stdout",
          "text": [
            "I am not happy\n"
          ]
        }
      ]
    },
    {
      "cell_type": "code",
      "source": [
        "mood = \"neutral\"\n",
        "if mood == \"happy\":\n",
        "    print(\"Isha loves Python\")\n",
        "else:\n",
        "    print(\"Isha don't love Python\")"
      ],
      "metadata": {
        "colab": {
          "base_uri": "https://localhost:8080/"
        },
        "outputId": "cc8997d7-8fc9-4af7-a289-ef3d99e8b5e6",
        "id": "U4y1BsspNDY6"
      },
      "execution_count": null,
      "outputs": [
        {
          "output_type": "stream",
          "name": "stdout",
          "text": [
            "Isha don't love Python\n"
          ]
        }
      ]
    },
    {
      "cell_type": "code",
      "source": [
        "numbers = [5, 2, 25, 34, 10, 3, 16, 7, 9, 1, -1, 55]\n",
        "\n",
        "for n in numbers:\n",
        "    if n > 5:\n",
        "        print(n)"
      ],
      "metadata": {
        "colab": {
          "base_uri": "https://localhost:8080/"
        },
        "id": "AgP8HujWNQZL",
        "outputId": "1ec90247-8ee9-4d6b-eec2-392db7cff94e"
      },
      "execution_count": null,
      "outputs": [
        {
          "output_type": "stream",
          "name": "stdout",
          "text": [
            "25\n",
            "34\n",
            "10\n",
            "16\n",
            "7\n",
            "9\n",
            "55\n"
          ]
        }
      ]
    },
    {
      "cell_type": "code",
      "source": [
        "n = 24\n",
        "\n",
        "if n % 2 == 0:\n",
        "    print(\"Even number\")\n",
        "    if n > 100:\n",
        "      print(\"Large Number\")\n",
        "    else:\n",
        "      print(\"Small Number\")\n",
        "else:\n",
        "    print(\"Odd number\")\n",
        "    if n > 100:\n",
        "      print(\"Large Number\")\n",
        "    else:\n",
        "      print(\"Small Number\")\n"
      ],
      "metadata": {
        "colab": {
          "base_uri": "https://localhost:8080/"
        },
        "id": "LZlW3iE5NqH6",
        "outputId": "7ba8847d-6cbb-4858-9927-fa62d5d7f6f6"
      },
      "execution_count": null,
      "outputs": [
        {
          "output_type": "stream",
          "name": "stdout",
          "text": [
            "Even number\n",
            "Small Number\n"
          ]
        }
      ]
    },
    {
      "source": [
        "marks = 85\n",
        "\n",
        "if marks >= 90:\n",
        "    print(\"Grade: A+\")\n",
        "elif marks >= 75:\n",
        "    print(\"Grade: A\")\n",
        "elif marks >= 60:\n",
        "    print(\"Grade: B\")\n",
        "else:\n",
        "    print(\"Grade: C\")\n"
      ],
      "cell_type": "code",
      "metadata": {
        "colab": {
          "base_uri": "https://localhost:8080/"
        },
        "id": "4ITqsq3FVCFg",
        "outputId": "10e0081d-28b0-48fe-ef3d-c5452b44d8a7"
      },
      "execution_count": null,
      "outputs": [
        {
          "output_type": "stream",
          "name": "stdout",
          "text": [
            "Grade: A\n"
          ]
        }
      ]
    },
    {
      "cell_type": "code",
      "source": [],
      "metadata": {
        "id": "F8tHPj7-VL20"
      },
      "execution_count": null,
      "outputs": []
    }
  ]
}