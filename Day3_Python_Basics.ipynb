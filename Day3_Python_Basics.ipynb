{
  "nbformat": 4,
  "nbformat_minor": 0,
  "metadata": {
    "colab": {
      "provenance": [],
      "authorship_tag": "ABX9TyMlqf9UoD1r1n9jEKnkAhY6",
      "include_colab_link": true
    },
    "kernelspec": {
      "name": "python3",
      "display_name": "Python 3"
    },
    "language_info": {
      "name": "python"
    }
  },
  "cells": [
    {
      "cell_type": "markdown",
      "metadata": {
        "id": "view-in-github",
        "colab_type": "text"
      },
      "source": [
        "<a href=\"https://colab.research.google.com/github/Isha1600/Python_Basics_Practice/blob/main/Day3_Python_Basics.ipynb\" target=\"_parent\"><img src=\"https://colab.research.google.com/assets/colab-badge.svg\" alt=\"Open In Colab\"/></a>"
      ]
    },
    {
      "cell_type": "code",
      "execution_count": 1,
      "metadata": {
        "id": "ZYH4-0qCh9vp",
        "colab": {
          "base_uri": "https://localhost:8080/"
        },
        "outputId": "6c2dfcd5-38d3-4cf3-da37-f29d999e73d2"
      },
      "outputs": [
        {
          "output_type": "stream",
          "name": "stdout",
          "text": [
            "Even number\n"
          ]
        }
      ],
      "source": [
        "n = 10\n",
        "\n",
        "if n % 2 == 0:\n",
        "    print(\"Even number\")\n",
        "else:\n",
        "    print(\"Odd number\")\n"
      ]
    },
    {
      "cell_type": "code",
      "source": [
        "a = 8\n",
        "b = 12\n",
        "\n",
        "if a > b:\n",
        "    print(\"a is greater\")\n",
        "else:\n",
        "    print(\"b is greater\")\n"
      ],
      "metadata": {
        "colab": {
          "base_uri": "https://localhost:8080/"
        },
        "id": "fFCDP5nRrM29",
        "outputId": "358ae22f-df8f-40ec-bcd8-c14f3cb3111f"
      },
      "execution_count": 2,
      "outputs": [
        {
          "output_type": "stream",
          "name": "stdout",
          "text": [
            "b is greater\n"
          ]
        }
      ]
    },
    {
      "cell_type": "code",
      "source": [
        "marks = 85\n",
        "\n",
        "if marks >= 90:\n",
        "    print(\"Grade: A+\")\n",
        "elif marks >= 75:\n",
        "    print(\"Grade: A\")\n",
        "elif marks >= 60:\n",
        "    print(\"Grade: B\")\n",
        "else:\n",
        "    print(\"Grade: C\")\n"
      ],
      "metadata": {
        "colab": {
          "base_uri": "https://localhost:8080/"
        },
        "id": "thzNpxP7rThL",
        "outputId": "9139c680-8065-4374-869d-ebb29c260a07"
      },
      "execution_count": 3,
      "outputs": [
        {
          "output_type": "stream",
          "name": "stdout",
          "text": [
            "Grade: A\n"
          ]
        }
      ]
    },
    {
      "cell_type": "code",
      "source": [
        "numbers = [1, 2, 3, 4, 5, 6, 7]\n",
        "for n in numbers:\n",
        "    if n % 2 == 0:\n",
        "        print(n)\n"
      ],
      "metadata": {
        "colab": {
          "base_uri": "https://localhost:8080/"
        },
        "id": "hPYdimU39fYU",
        "outputId": "7cab3f09-aacd-43ad-af36-f13e43963ae3"
      },
      "execution_count": 1,
      "outputs": [
        {
          "output_type": "stream",
          "name": "stdout",
          "text": [
            "2\n",
            "4\n",
            "6\n"
          ]
        }
      ]
    }
  ]
}