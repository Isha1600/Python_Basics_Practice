{
  "nbformat": 4,
  "nbformat_minor": 0,
  "metadata": {
    "colab": {
      "provenance": [],
      "authorship_tag": "ABX9TyMtESzHoV/il9nqdkWzcKRD",
      "include_colab_link": true
    },
    "kernelspec": {
      "name": "python3",
      "display_name": "Python 3"
    },
    "language_info": {
      "name": "python"
    }
  },
  "cells": [
    {
      "cell_type": "markdown",
      "metadata": {
        "id": "view-in-github",
        "colab_type": "text"
      },
      "source": [
        "<a href=\"https://colab.research.google.com/github/Isha1600/Python_Basics_Practice/blob/main/Day5_Python_Basics.ipynb\" target=\"_parent\"><img src=\"https://colab.research.google.com/assets/colab-badge.svg\" alt=\"Open In Colab\"/></a>"
      ]
    },
    {
      "cell_type": "code",
      "source": [
        "def greet():\n",
        "    print(\"Hello Isha!\")\n",
        "greet()\n"
      ],
      "metadata": {
        "colab": {
          "base_uri": "https://localhost:8080/"
        },
        "id": "mnCR-iq4pG62",
        "outputId": "71a505c8-44f3-4dd6-b44c-458dd7c62bfa"
      },
      "execution_count": 5,
      "outputs": [
        {
          "output_type": "stream",
          "name": "stdout",
          "text": [
            "Hello Isha!\n"
          ]
        }
      ]
    },
    {
      "cell_type": "code",
      "source": [
        "def greet(name):\n",
        "    print(\"Hello\", name, \"welcome to Python!\")\n",
        "\n",
        "greet(\"Isha\")\n"
      ],
      "metadata": {
        "colab": {
          "base_uri": "https://localhost:8080/"
        },
        "id": "hz8894aZpWos",
        "outputId": "7cec4b11-1954-4e36-cdeb-f6c8339eb05a"
      },
      "execution_count": 6,
      "outputs": [
        {
          "output_type": "stream",
          "name": "stdout",
          "text": [
            "Hello Isha welcome to Python!\n"
          ]
        }
      ]
    },
    {
      "cell_type": "code",
      "source": [
        "def repeat_message():\n",
        "    for i in range(5):\n",
        "        print(\"I love coding!\")\n",
        "repeat_message()\n"
      ],
      "metadata": {
        "colab": {
          "base_uri": "https://localhost:8080/"
        },
        "id": "vLWdbKMMpcqV",
        "outputId": "037abf3d-ab8e-4b72-9d6b-6647f1b98e8e"
      },
      "execution_count": 8,
      "outputs": [
        {
          "output_type": "stream",
          "name": "stdout",
          "text": [
            "I love coding!\n",
            "I love coding!\n",
            "I love coding!\n",
            "I love coding!\n",
            "I love coding!\n"
          ]
        }
      ]
    },
    {
      "cell_type": "code",
      "source": [
        "def print_name(name):\n",
        "    for i in range(3):\n",
        "        print(\"Hello\", name)\n",
        "print_name(\"Isha\")\n"
      ],
      "metadata": {
        "colab": {
          "base_uri": "https://localhost:8080/"
        },
        "id": "MrKdzxs8pk5w",
        "outputId": "1c5fef36-81ea-47b1-e985-cbb41caec885"
      },
      "execution_count": 9,
      "outputs": [
        {
          "output_type": "stream",
          "name": "stdout",
          "text": [
            "Hello Isha\n",
            "Hello Isha\n",
            "Hello Isha\n"
          ]
        }
      ]
    },
    {
      "cell_type": "code",
      "source": [
        "def calculator(a, b, operation):\n",
        "    if operation == \"add\":\n",
        "        print(\"Sum =\", a + b)\n",
        "    elif operation == \"subtract\":\n",
        "        print(\"Difference =\", a - b)\n",
        "    elif operation == \"multiply\":\n",
        "        print(\"Product =\", a * b)\n",
        "    elif operation == \"divide\":\n",
        "        print(\"Quotient =\", a / b)\n",
        "    else:\n",
        "        print(\"Invalid operation\")\n",
        "calculator(10, 5, \"add\")\n",
        "calculator(10, 5, \"multiply\")\n"
      ],
      "metadata": {
        "colab": {
          "base_uri": "https://localhost:8080/"
        },
        "id": "sRFsGMS3pqVN",
        "outputId": "50bab56e-fb9c-4652-fd59-23bd4404021a"
      },
      "execution_count": 10,
      "outputs": [
        {
          "output_type": "stream",
          "name": "stdout",
          "text": [
            "Sum = 15\n",
            "Product = 50\n"
          ]
        }
      ]
    },
    {
      "cell_type": "code",
      "source": [
        "for i in range(1, 4):     # outer loop (for numbers 1–3)\n",
        "    print(\"Table of\", i)\n",
        "    for j in range(1, 6): # inner loop (for 1–5)\n",
        "        print(i, \"x\", j, \"=\", i * j)\n",
        "    print(\"------------\")\n"
      ],
      "metadata": {
        "colab": {
          "base_uri": "https://localhost:8080/"
        },
        "id": "iog2a4x3p0bi",
        "outputId": "4f7f150f-7325-4002-cfcb-2df3fe183327"
      },
      "execution_count": 11,
      "outputs": [
        {
          "output_type": "stream",
          "name": "stdout",
          "text": [
            "Table of 1\n",
            "1 x 1 = 1\n",
            "1 x 2 = 2\n",
            "1 x 3 = 3\n",
            "1 x 4 = 4\n",
            "1 x 5 = 5\n",
            "------------\n",
            "Table of 2\n",
            "2 x 1 = 2\n",
            "2 x 2 = 4\n",
            "2 x 3 = 6\n",
            "2 x 4 = 8\n",
            "2 x 5 = 10\n",
            "------------\n",
            "Table of 3\n",
            "3 x 1 = 3\n",
            "3 x 2 = 6\n",
            "3 x 3 = 9\n",
            "3 x 4 = 12\n",
            "3 x 5 = 15\n",
            "------------\n"
          ]
        }
      ]
    },
    {
      "cell_type": "code",
      "source": [
        "def print_grid(rows, cols):\n",
        "    for r in range(rows):            # outer loop — each row\n",
        "        for c in range(cols):        # inner loop — each column in a row\n",
        "            print(\"*\", end=\" \")      # print star and stay on same line\n",
        "        print()                      # after inner loop, move to next line\n",
        "\n",
        "print_grid(3, 4)\n"
      ],
      "metadata": {
        "colab": {
          "base_uri": "https://localhost:8080/"
        },
        "id": "r736auN0qA-t",
        "outputId": "444c1b10-3cff-42fc-d06a-da82d8f3813d"
      },
      "execution_count": 12,
      "outputs": [
        {
          "output_type": "stream",
          "name": "stdout",
          "text": [
            "* * * * \n",
            "* * * * \n",
            "* * * * \n"
          ]
        }
      ]
    },
    {
      "cell_type": "code",
      "metadata": {
        "colab": {
          "base_uri": "https://localhost:8080/"
        },
        "id": "c7763f65",
        "outputId": "ac8c6887-bb9f-4571-95f6-bae8a521f945"
      },
      "source": [
        "def multiplication_table(n):\n",
        "    # prints a multiplication table up to n x n\n",
        "    for i in range(1, n + 1):\n",
        "        for j in range(1, n + 1):\n",
        "            print(i * j, end='\\t')   # print in same line separated by a tab\n",
        "        print()  # new line after each row\n",
        "\n",
        "# Test the function with n=5\n",
        "multiplication_table(5)"
      ],
      "execution_count": 14,
      "outputs": [
        {
          "output_type": "stream",
          "name": "stdout",
          "text": [
            "1\t2\t3\t4\t5\t\n",
            "2\t4\t6\t8\t10\t\n",
            "3\t6\t9\t12\t15\t\n",
            "4\t8\t12\t16\t20\t\n",
            "5\t10\t15\t20\t25\t\n"
          ]
        }
      ]
    },
    {
      "cell_type": "code",
      "source": [
        "def add(a, b):\n",
        "    return a + b\n",
        "\n",
        "def subtract(a, b):\n",
        "    return a - b\n",
        "\n",
        "def multiply(a, b):\n",
        "    return a * b\n",
        "\n",
        "def divide(a, b):\n",
        "    if b == 0:\n",
        "        return \"Error: division by zero\"\n",
        "    return a / b\n",
        "\n",
        "def calculator():\n",
        "    while True:\n",
        "        print(\"\\nOptions: add / sub / mul / div / quit\")\n",
        "        choice = input(\"Choose operation: \").strip().lower()\n",
        "        if choice == \"quit\":\n",
        "            print(\"Goodbye!\")\n",
        "            break\n",
        "        if choice not in (\"add\",\"sub\",\"mul\",\"div\"):\n",
        "            print(\"Please choose a valid option.\")\n",
        "            continue\n",
        "        # get numbers\n",
        "        try:\n",
        "            x = float(input(\"Enter first number: \"))\n",
        "            y = float(input(\"Enter second number: \"))\n",
        "        except:\n",
        "            print(\"Please enter valid numbers.\")\n",
        "            continue\n",
        "        if choice == \"add\":\n",
        "            print(\"Result:\", add(x,y))\n",
        "        elif choice == \"sub\":\n",
        "            print(\"Result:\", subtract(x,y))\n",
        "        elif choice == \"mul\":\n",
        "            print(\"Result:\", multiply(x,y))\n",
        "        elif choice == \"div\":\n",
        "            print(\"Result:\", divide(x,y))\n",
        "\n",
        "# Run the calculator (uncomment to run)\n",
        "calculator()\n",
        "\n"
      ],
      "metadata": {
        "colab": {
          "base_uri": "https://localhost:8080/"
        },
        "id": "kmaKe-a5qpdy",
        "outputId": "398c9504-6ced-4b8a-f6df-5f9f1948d2b1"
      },
      "execution_count": 17,
      "outputs": [
        {
          "output_type": "stream",
          "name": "stdout",
          "text": [
            "\n",
            "Options: add / sub / mul / div / quit\n",
            "Choose operation: add\n",
            "Enter first number: 23\n",
            "Enter second number: 45\n",
            "Result: 68.0\n",
            "\n",
            "Options: add / sub / mul / div / quit\n",
            "Choose operation: quit\n",
            "Goodbye!\n"
          ]
        }
      ]
    },
    {
      "cell_type": "code",
      "source": [
        "def add(a, b):\n",
        "    return a + b\n",
        "\n",
        "def subtract(a, b):\n",
        "    return a - b\n",
        "\n",
        "def multiply(a, b):\n",
        "    return a * b\n",
        "\n",
        "def divide(a, b):\n",
        "    if b == 0:\n",
        "        return \"Error: division by zero\"\n",
        "    return a / b\n",
        "\n",
        "def power(a, b):\n",
        "    return a ** b\n",
        "\n",
        "def calculator():\n",
        "    while True:\n",
        "        print(\"\\nOptions: add / sub / mul / div / power / quit\")\n",
        "        choice = input(\"Choose operation: \").strip().lower()\n",
        "        if choice == \"quit\":\n",
        "            print(\"Goodbye!\")\n",
        "            break\n",
        "        if choice not in (\"add\",\"sub\",\"mul\",\"div\",\"power\"):\n",
        "            print(\"Please choose a valid option.\")\n",
        "            continue\n",
        "        # get numbers\n",
        "        try:\n",
        "            x = float(input(\"Enter first number: \"))\n",
        "            y = float(input(\"Enter second number: \"))\n",
        "        except ValueError:\n",
        "            print(\"Please enter valid numbers.\")\n",
        "            continue\n",
        "        for _ in range(3): # Repeat the operation 3 times\n",
        "            if choice == \"add\":\n",
        "                print(\"Result:\", add(x,y))\n",
        "            elif choice == \"sub\":\n",
        "                print(\"Result:\", subtract(x,y))\n",
        "            elif choice == \"mul\":\n",
        "                print(\"Result:\", multiply(x,y))\n",
        "            elif choice == \"div\":\n",
        "                print(\"Result:\", divide(x,y))\n",
        "            elif choice == \"power\":\n",
        "                print(\"Result:\", power(x,y))\n",
        "\n",
        "# Run the calculator (uncomment to run)\n",
        "calculator()"
      ],
      "metadata": {
        "colab": {
          "base_uri": "https://localhost:8080/"
        },
        "id": "sECRu4lyrq4e",
        "outputId": "5f81dfb0-06b0-4550-ed8e-2205caf03835"
      },
      "execution_count": 18,
      "outputs": [
        {
          "output_type": "stream",
          "name": "stdout",
          "text": [
            "\n",
            "Options: add / sub / mul / div / power / quit\n",
            "Choose operation: power\n",
            "Enter first number: 4\n",
            "Enter second number: 3\n",
            "Result: 64.0\n",
            "Result: 64.0\n",
            "Result: 64.0\n",
            "\n",
            "Options: add / sub / mul / div / power / quit\n",
            "Choose operation: quit\n",
            "Goodbye!\n"
          ]
        }
      ]
    },
    {
      "cell_type": "code",
      "source": [],
      "metadata": {
        "id": "0WPNhZ89sh49"
      },
      "execution_count": null,
      "outputs": []
    },
    {
      "cell_type": "code",
      "execution_count": 1,
      "metadata": {
        "id": "Knknub6cAMP9",
        "colab": {
          "base_uri": "https://localhost:8080/"
        },
        "outputId": "8dc7d1a7-2992-4dcd-c435-fb9e3f652d88"
      },
      "outputs": [
        {
          "output_type": "stream",
          "name": "stdout",
          "text": [
            "7 x 1 = 7\n",
            "7 x 2 = 14\n",
            "7 x 3 = 21\n",
            "7 x 4 = 28\n",
            "7 x 5 = 35\n",
            "7 x 6 = 42\n",
            "7 x 7 = 49\n",
            "7 x 8 = 56\n",
            "7 x 9 = 63\n",
            "7 x 10 = 70\n",
            "\n",
            "9 x 1 = 9\n",
            "9 x 2 = 18\n",
            "9 x 3 = 27\n",
            "9 x 4 = 36\n",
            "9 x 5 = 45\n",
            "9 x 6 = 54\n",
            "9 x 7 = 63\n",
            "9 x 8 = 72\n",
            "9 x 9 = 81\n",
            "9 x 10 = 90\n"
          ]
        }
      ],
      "source": [
        "def print_table(num):\n",
        "    # prints multiplication table of `num` from 1 to 10\n",
        "    for i in range(1, 11):\n",
        "        print(f\"{num} x {i} = {num * i}\")\n",
        "\n",
        "# Use the function for 7 and 9\n",
        "print_table(7)\n",
        "print()   # blank line\n",
        "print_table(9)\n"
      ]
    },
    {
      "cell_type": "code",
      "source": [
        "def multiplication_table_matrix(rows, cols):\n",
        "    # prints a grid where each cell = row * col\n",
        "    for r in range(1, rows + 1):\n",
        "        for c in range(1, cols + 1):\n",
        "            print(r * c, end='\\t')   # print in same line separated by a tab\n",
        "        print()  # new line after each row\n",
        "\n",
        "multiplication_table_matrix(5, 5)\n"
      ],
      "metadata": {
        "colab": {
          "base_uri": "https://localhost:8080/"
        },
        "id": "xKm7o3wwmNz9",
        "outputId": "a39f9142-58ec-4707-b24f-8faff0cbcc12"
      },
      "execution_count": 1,
      "outputs": [
        {
          "output_type": "stream",
          "name": "stdout",
          "text": [
            "1\t2\t3\t4\t5\t\n",
            "2\t4\t6\t8\t10\t\n",
            "3\t6\t9\t12\t15\t\n",
            "4\t8\t12\t16\t20\t\n",
            "5\t10\t15\t20\t25\t\n"
          ]
        }
      ]
    },
    {
      "cell_type": "code",
      "source": [
        "def filter_greater_than_five(numbers):\n",
        "    result = []\n",
        "    for n in numbers:\n",
        "        if n > 5:\n",
        "            result.append(n)\n",
        "    return result\n",
        "\n",
        "sample = [1,4,6,8,2,15,3]\n",
        "print(filter_greater_than_five(sample))  # prints [6, 8, 15]\n"
      ],
      "metadata": {
        "colab": {
          "base_uri": "https://localhost:8080/"
        },
        "id": "zjSeIFW2oNqY",
        "outputId": "b926db44-da32-4037-9143-f2487019192e"
      },
      "execution_count": 2,
      "outputs": [
        {
          "output_type": "stream",
          "name": "stdout",
          "text": [
            "[6, 8, 15]\n"
          ]
        }
      ]
    },
    {
      "cell_type": "code",
      "source": [
        "def batch_calculator(pairs, operation):\n",
        "    results = []\n",
        "    for a, b in pairs:\n",
        "        if operation == \"add\":\n",
        "            results.append(a + b)\n",
        "        elif operation == \"subtract\":\n",
        "            results.append(a - b)\n",
        "        elif operation == \"multiply\":\n",
        "            results.append(a * b)\n",
        "        elif operation == \"divide\":\n",
        "            results.append(a / b)\n",
        "        else:\n",
        "            results.append(None)\n",
        "    return results\n",
        "\n",
        "pairs = [(2,3), (10,5), (7,8)]\n",
        "print(batch_calculator(pairs, \"add\"))       # [5, 15, 15]\n",
        "print(batch_calculator(pairs, \"multiply\"))  # [6, 50, 56]\n"
      ],
      "metadata": {
        "colab": {
          "base_uri": "https://localhost:8080/"
        },
        "id": "aNfdSlJRoVfJ",
        "outputId": "15d99549-6437-4cc0-be12-f3e5cd63488a"
      },
      "execution_count": 3,
      "outputs": [
        {
          "output_type": "stream",
          "name": "stdout",
          "text": [
            "[5, 15, 15]\n",
            "[6, 50, 56]\n"
          ]
        }
      ]
    },
    {
      "cell_type": "code",
      "source": [],
      "metadata": {
        "id": "hqw6_lqkol7D"
      },
      "execution_count": null,
      "outputs": []
    }
  ]
}