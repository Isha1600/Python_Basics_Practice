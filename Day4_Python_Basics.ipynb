{
  "nbformat": 4,
  "nbformat_minor": 0,
  "metadata": {
    "colab": {
      "provenance": [],
      "authorship_tag": "ABX9TyPP0UGJr8CtOUn128exuf5q",
      "include_colab_link": true
    },
    "kernelspec": {
      "name": "python3",
      "display_name": "Python 3"
    },
    "language_info": {
      "name": "python"
    }
  },
  "cells": [
    {
      "cell_type": "markdown",
      "metadata": {
        "id": "view-in-github",
        "colab_type": "text"
      },
      "source": [
        "<a href=\"https://colab.research.google.com/github/Isha1600/Python_Basics_Practice/blob/main/Day4_Python_Basics.ipynb\" target=\"_parent\"><img src=\"https://colab.research.google.com/assets/colab-badge.svg\" alt=\"Open In Colab\"/></a>"
      ]
    },
    {
      "cell_type": "code",
      "execution_count": null,
      "metadata": {
        "id": "-7bXG8w3oYmn"
      },
      "outputs": [],
      "source": [
        "def function_name():\n",
        "  function_name()          # code here\n",
        "\n"
      ]
    },
    {
      "cell_type": "code",
      "source": [
        "def say_hello():\n",
        "    print(\"Hello Isha!\")\n",
        "    print(\"Welcome to Python functions!\")\n",
        "\n",
        "say_hello()\n"
      ],
      "metadata": {
        "colab": {
          "base_uri": "https://localhost:8080/"
        },
        "id": "ag6ENvd5pE0U",
        "outputId": "f0fec588-79e7-4840-e7bb-a21ac21dfabf"
      },
      "execution_count": null,
      "outputs": [
        {
          "output_type": "stream",
          "name": "stdout",
          "text": [
            "Hello Isha!\n",
            "Welcome to Python functions!\n"
          ]
        }
      ]
    },
    {
      "cell_type": "code",
      "source": [
        "def greet(name):\n",
        "    print(\"Hello\", name, \"nice to meet you!\")\n",
        "\n",
        "greet(\"Isha\")\n",
        "greet(\"Tina\")\n"
      ],
      "metadata": {
        "colab": {
          "base_uri": "https://localhost:8080/"
        },
        "id": "84a8vN9QpQLd",
        "outputId": "6f72701c-51ae-454c-b5d9-b76e0a10d530"
      },
      "execution_count": null,
      "outputs": [
        {
          "output_type": "stream",
          "name": "stdout",
          "text": [
            "Hello Isha nice to meet you!\n",
            "Hello Tina nice to meet you!\n"
          ]
        }
      ]
    },
    {
      "cell_type": "code",
      "source": [
        "def add_numbers(a, b):\n",
        "    print(\"Sum is:\", a + b)\n",
        "\n",
        "add_numbers(5, 10)\n",
        "add_numbers(2, 7)\n"
      ],
      "metadata": {
        "colab": {
          "base_uri": "https://localhost:8080/"
        },
        "id": "xpBb6U89pnHm",
        "outputId": "4ed8e200-2399-4b15-bb05-c152e19f761c"
      },
      "execution_count": null,
      "outputs": [
        {
          "output_type": "stream",
          "name": "stdout",
          "text": [
            "Sum is: 15\n",
            "Sum is: 9\n"
          ]
        }
      ]
    },
    {
      "cell_type": "code",
      "source": [
        "def square(num):\n",
        "    return num * num\n",
        "\n",
        "result = square(4)\n",
        "print(\"Square is:\", result)\n"
      ],
      "metadata": {
        "colab": {
          "base_uri": "https://localhost:8080/"
        },
        "id": "oYdHdLoTpxOu",
        "outputId": "599eb266-80dc-4103-bcce-6fd2f32947c7"
      },
      "execution_count": null,
      "outputs": [
        {
          "output_type": "stream",
          "name": "stdout",
          "text": [
            "Square is: 16\n"
          ]
        }
      ]
    },
    {
      "cell_type": "code",
      "source": [
        "def calculator(a, b, operation):\n",
        "    if operation == \"add\":\n",
        "        return a + b\n",
        "    elif operation == \"subtract\":\n",
        "        return a - b\n",
        "    elif operation == \"multiply\":\n",
        "        return a * b\n",
        "    elif operation == \"divide\":\n",
        "        return a / b\n",
        "    else:\n",
        "        return \"Invalid operation\"\n",
        "\n",
        "print(calculator(10, 5, \"add\"))\n",
        "print(calculator(10, 5, \"multiply\"))\n",
        "print(calculator(10, 5, \"invalid\"))\n",
        "print(calculator(10, 5, \"subtract\"))\n",
        "print(calculator(10, 5, \"divide\"))\n"
      ],
      "metadata": {
        "colab": {
          "base_uri": "https://localhost:8080/"
        },
        "id": "qyw5OMJ6p285",
        "outputId": "36a84443-feb4-49aa-ff98-76feaf9e8515"
      },
      "execution_count": null,
      "outputs": [
        {
          "output_type": "stream",
          "name": "stdout",
          "text": [
            "15\n",
            "50\n",
            "Invalid operation\n",
            "5\n",
            "2.0\n"
          ]
        }
      ]
    },
    {
      "cell_type": "code",
      "source": [
        "def greet_user(name):\n",
        "  print(\"Hello, My name is\", name)\n",
        "\n",
        "greet_user(\"Isha\")\n"
      ],
      "metadata": {
        "id": "YS3Kt822sYuK",
        "colab": {
          "base_uri": "https://localhost:8080/"
        },
        "outputId": "bc0d2424-471e-4d31-807e-cb1d05edc6ff"
      },
      "execution_count": 10,
      "outputs": [
        {
          "output_type": "stream",
          "name": "stdout",
          "text": [
            "Hello, My name is Isha\n"
          ]
        }
      ]
    },
    {
      "cell_type": "code",
      "source": [
        "def greet_user():\n",
        "  print(\"Hello, My name is Isha\")\n",
        "greet_user()\n"
      ],
      "metadata": {
        "colab": {
          "base_uri": "https://localhost:8080/"
        },
        "id": "VcFSFLZAuBOU",
        "outputId": "da95fb61-86a5-4aaa-d504-b3447bb9125a"
      },
      "execution_count": 12,
      "outputs": [
        {
          "output_type": "stream",
          "name": "stdout",
          "text": [
            "Hello, My name is Isha\n"
          ]
        }
      ]
    },
    {
      "cell_type": "code",
      "source": [
        "def cube(num):\n",
        "  return num * num * num\n",
        "\n",
        "result = cube(5)\n",
        "print(\"Cube is:\", result)\n"
      ],
      "metadata": {
        "colab": {
          "base_uri": "https://localhost:8080/"
        },
        "id": "uNfqOgDiuMfV",
        "outputId": "945f530f-8ad3-4612-ed1e-2d6aefaa04dc"
      },
      "execution_count": 18,
      "outputs": [
        {
          "output_type": "stream",
          "name": "stdout",
          "text": [
            "Cube is: 125\n"
          ]
        }
      ]
    },
    {
      "cell_type": "code",
      "source": [
        "def is_even(num):\n",
        "  if num % 2 == 0:\n",
        "    return \"Even\"\n",
        "  else:\n",
        "    return \"Odd\"\n",
        "\n",
        "print(is_even(5))\n",
        "print(is_even(6))\n"
      ],
      "metadata": {
        "colab": {
          "base_uri": "https://localhost:8080/"
        },
        "id": "r0Ei6_jyvbRP",
        "outputId": "1ae5231d-6b8b-489b-f0da-0d765db4439a"
      },
      "execution_count": 22,
      "outputs": [
        {
          "output_type": "stream",
          "name": "stdout",
          "text": [
            "Odd\n",
            "Even\n"
          ]
        }
      ]
    },
    {
      "cell_type": "code",
      "source": [
        "def calculator(a, b, operation):\n",
        "  if operation == \"add\":\n",
        "    return a + b\n",
        "  elif operation == \"subtract\":\n",
        "    return a - b\n",
        "  elif operation == \"multiply\":\n",
        "    return a * b\n",
        "  elif operation == \"divide\":\n",
        "    return a / b\n",
        "  elif operation == \"power\":\n",
        "    return a ** b\n",
        "  elif operation == \"modulus\":\n",
        "   return a % b\n",
        "  elif operation == \"floor division\":\n",
        "    return a // b\n",
        "  elif operation == \"square root\":\n",
        "    return a ** 0.5\n",
        "  elif operation == \"cube root\":\n",
        "    return a ** (1/3)\n",
        "  else:\n",
        "    return \"Invalid operation\"\n",
        "\n",
        "print(calculator(21, 3, \"add\"))\n",
        "print(calculator(21, 3, \"subtract\"))\n",
        "print(calculator(21, 3, \"multiply\"))\n",
        "print(calculator(21, 3, \"divide\"))\n",
        "print(calculator(21, 3, \"power\"))\n",
        "print(calculator(21, 3, \"modulus\"))\n",
        "print(calculator(21, 3, \"floor division\"))\n",
        "print(calculator(21, 3, \"square root\"))\n",
        "print(calculator(21, 3, \"cube root\"))\n",
        "print(calculator(21, 3, \"invalid\"))\n"
      ],
      "metadata": {
        "colab": {
          "base_uri": "https://localhost:8080/"
        },
        "id": "VBYeI5FKwBcd",
        "outputId": "16cd7304-debc-4dba-b648-c24a926406db"
      },
      "execution_count": 25,
      "outputs": [
        {
          "output_type": "stream",
          "name": "stdout",
          "text": [
            "24\n",
            "18\n",
            "63\n",
            "7.0\n",
            "9261\n",
            "0\n",
            "7\n",
            "4.58257569495584\n",
            "2.7589241763811203\n",
            "Invalid operation\n"
          ]
        }
      ]
    },
    {
      "cell_type": "code",
      "metadata": {
        "colab": {
          "base_uri": "https://localhost:8080/"
        },
        "id": "fc4bc7d0",
        "outputId": "ab088599-e609-4e15-bba8-2cc551ab4903"
      },
      "source": [
        "def is_even_or_odd(number):\n",
        "  \"\"\"Checks if a number is even or odd.\"\"\"\n",
        "  if number % 2 == 0:\n",
        "    return \"Even\"\n",
        "  else:\n",
        "    return \"Odd\"\n",
        "\n",
        "print(is_even_or_odd(5))\n",
        "print(is_even_or_odd(4))\n",
        "print(is_even_or_odd(7))\n",
        "print(is_even_or_odd(8))\n"
      ],
      "execution_count": 28,
      "outputs": [
        {
          "output_type": "stream",
          "name": "stdout",
          "text": [
            "Odd\n",
            "Even\n",
            "Odd\n",
            "Even\n"
          ]
        }
      ]
    },
    {
      "cell_type": "code",
      "source": [],
      "metadata": {
        "id": "06riitkk2-1A"
      },
      "execution_count": null,
      "outputs": []
    }
  ]
}