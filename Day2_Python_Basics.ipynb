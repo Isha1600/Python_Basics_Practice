{
  "nbformat": 4,
  "nbformat_minor": 0,
  "metadata": {
    "colab": {
      "provenance": [],
      "authorship_tag": "ABX9TyPdWLXwloRx/vLsuYoC8UTh",
      "include_colab_link": true
    },
    "kernelspec": {
      "name": "python3",
      "display_name": "Python 3"
    },
    "language_info": {
      "name": "python"
    }
  },
  "cells": [
    {
      "cell_type": "markdown",
      "metadata": {
        "id": "view-in-github",
        "colab_type": "text"
      },
      "source": [
        "<a href=\"https://colab.research.google.com/github/Isha1600/Python_Basics_Practice/blob/main/Day2_Python_Basics.ipynb\" target=\"_parent\"><img src=\"https://colab.research.google.com/assets/colab-badge.svg\" alt=\"Open In Colab\"/></a>"
      ]
    },
    {
      "cell_type": "code",
      "source": [
        "fruits = [\"apple\", \"banana\", \"cherry\"]\n",
        "print(fruits)\n"
      ],
      "metadata": {
        "colab": {
          "base_uri": "https://localhost:8080/"
        },
        "id": "r16-f4wQpBs_",
        "outputId": "3ccffbfd-f462-49f0-a952-e85dfe958fe0"
      },
      "execution_count": null,
      "outputs": [
        {
          "output_type": "stream",
          "name": "stdout",
          "text": [
            "['apple', 'banana', 'cherry']\n"
          ]
        }
      ]
    },
    {
      "cell_type": "code",
      "source": [
        "print(fruits[0])   # first item access\n",
        "print(fruits[2])   # third item access\n"
      ],
      "metadata": {
        "colab": {
          "base_uri": "https://localhost:8080/"
        },
        "id": "uo3nGuIJpRJ8",
        "outputId": "53d8746d-6746-4b68-9340-9f1b95af3442"
      },
      "execution_count": null,
      "outputs": [
        {
          "output_type": "stream",
          "name": "stdout",
          "text": [
            "apple\n",
            "cherry\n"
          ]
        }
      ]
    },
    {
      "cell_type": "code",
      "source": [
        "fruits.append(\"mango\")  #add new item\n",
        "print(fruits)\n"
      ],
      "metadata": {
        "colab": {
          "base_uri": "https://localhost:8080/"
        },
        "id": "lzY3djzPpgjJ",
        "outputId": "7251a4dc-362a-44e2-d19a-bbd7d7c55b25"
      },
      "execution_count": null,
      "outputs": [
        {
          "output_type": "stream",
          "name": "stdout",
          "text": [
            "['apple', 'banana', 'cherry', 'mango']\n"
          ]
        }
      ]
    },
    {
      "cell_type": "code",
      "source": [
        "colors = [\"red\", \"blue\", \"pink\", \"yellow\", \"orange\", \"green\"]\n",
        "print(colors)\n"
      ],
      "metadata": {
        "id": "bMIFQn48prLW",
        "colab": {
          "base_uri": "https://localhost:8080/"
        },
        "outputId": "1be5634c-55e5-4396-bdfd-5ed0e4268c55"
      },
      "execution_count": null,
      "outputs": [
        {
          "output_type": "stream",
          "name": "stdout",
          "text": [
            "['red', 'blue', 'pink', 'yellow', 'orange', 'green']\n"
          ]
        }
      ]
    },
    {
      "cell_type": "code",
      "source": [
        "print(colors[1])\n",
        "print(colors[5])\n"
      ],
      "metadata": {
        "colab": {
          "base_uri": "https://localhost:8080/"
        },
        "id": "kP63a4lkMtcS",
        "outputId": "bd9e3995-fbc5-4e37-da1c-64facc439378"
      },
      "execution_count": null,
      "outputs": [
        {
          "output_type": "stream",
          "name": "stdout",
          "text": [
            "blue\n",
            "green\n"
          ]
        }
      ]
    },
    {
      "cell_type": "code",
      "source": [
        "colors.append(\"white\")\n",
        "print(colors)\n"
      ],
      "metadata": {
        "colab": {
          "base_uri": "https://localhost:8080/"
        },
        "id": "OpS4fhwrNNVn",
        "outputId": "e5f249e4-fa1d-4aeb-c790-d3207533ade5"
      },
      "execution_count": null,
      "outputs": [
        {
          "output_type": "stream",
          "name": "stdout",
          "text": [
            "['red', 'blue', 'pink', 'yellow', 'orange', 'green', 'white']\n"
          ]
        }
      ]
    },
    {
      "cell_type": "code",
      "source": [
        "for i in range(5):\n",
        "  print(\"Isha is learning python!\")\n"
      ],
      "metadata": {
        "colab": {
          "base_uri": "https://localhost:8080/"
        },
        "id": "nQQ25JakNn8M",
        "outputId": "5b27b409-096e-4974-8fe9-a7b591f1217c"
      },
      "execution_count": null,
      "outputs": [
        {
          "output_type": "stream",
          "name": "stdout",
          "text": [
            "Isha is learning python!\n",
            "Isha is learning python!\n",
            "Isha is learning python!\n",
            "Isha is learning python!\n",
            "Isha is learning python!\n"
          ]
        }
      ]
    },
    {
      "cell_type": "code",
      "source": [
        "fruits = [\"apple\", \"banana\", \"cherry\", \"mango\"] # Redefine fruits list\n",
        "for fruit in fruits:\n",
        "  print(\"I like\", fruit)\n"
      ],
      "metadata": {
        "colab": {
          "base_uri": "https://localhost:8080/"
        },
        "id": "TabfT64-OGmR",
        "outputId": "420940b2-0f63-4cee-95f2-246ec02cc6c9"
      },
      "execution_count": null,
      "outputs": [
        {
          "output_type": "stream",
          "name": "stdout",
          "text": [
            "I like apple\n",
            "I like banana\n",
            "I like cherry\n",
            "I like mango\n"
          ]
        }
      ]
    },
    {
      "cell_type": "code",
      "source": [
        "for i in range(1, 11):\n",
        "  print(i)\n"
      ],
      "metadata": {
        "colab": {
          "base_uri": "https://localhost:8080/"
        },
        "id": "sMU9uzO2O_xh",
        "outputId": "d7222c65-23e5-42d3-c9e1-158a57e6aee0"
      },
      "execution_count": null,
      "outputs": [
        {
          "output_type": "stream",
          "name": "stdout",
          "text": [
            "1\n",
            "2\n",
            "3\n",
            "4\n",
            "5\n",
            "6\n",
            "7\n",
            "8\n",
            "9\n",
            "10\n"
          ]
        }
      ]
    },
    {
      "cell_type": "code",
      "source": [
        "colors = [\"red\", \"blue\", \"pink\", \"yellow\", \"orange\", \"green\"]\n",
        "for color in colors:\n",
        "  print(color)"
      ],
      "metadata": {
        "colab": {
          "base_uri": "https://localhost:8080/"
        },
        "id": "y-iBie6vPjeA",
        "outputId": "5a5dbf1d-205e-4aa6-f4d3-fb49ad2e2a1b"
      },
      "execution_count": null,
      "outputs": [
        {
          "output_type": "stream",
          "name": "stdout",
          "text": [
            "red\n",
            "blue\n",
            "pink\n",
            "yellow\n",
            "orange\n",
            "green\n"
          ]
        }
      ]
    },
    {
      "cell_type": "code",
      "source": [
        "for i in range(1, 20):\n",
        "  if i % 2 == 0:\n",
        "    print(i)"
      ],
      "metadata": {
        "colab": {
          "base_uri": "https://localhost:8080/"
        },
        "id": "ONBYiPCVQGC3",
        "outputId": "6bdd3c41-6530-4f74-f26a-cf7a2feb0913"
      },
      "execution_count": null,
      "outputs": [
        {
          "output_type": "stream",
          "name": "stdout",
          "text": [
            "2\n",
            "4\n",
            "6\n",
            "8\n",
            "10\n",
            "12\n",
            "14\n",
            "16\n",
            "18\n"
          ]
        }
      ]
    },
    {
      "cell_type": "code",
      "source": [
        "numbers = [1, 2, 4, 6, 8, 9, 7, 11, 15, 19]\n",
        "total_sum = sum(numbers)\n",
        "print(numbers)\n",
        "print(\"The sum of all numbers in the list is\", total_sum)\n"
      ],
      "metadata": {
        "id": "ZK9B0m7VbREn",
        "colab": {
          "base_uri": "https://localhost:8080/"
        },
        "outputId": "fc2191da-3cf2-44b4-8f7c-768e8cbf8483"
      },
      "execution_count": 16,
      "outputs": [
        {
          "output_type": "stream",
          "name": "stdout",
          "text": [
            "[1, 2, 4, 6, 8, 9, 7, 11, 15, 19]\n",
            "The sum of all numbers in the list is 82\n"
          ]
        }
      ]
    },
    {
      "cell_type": "code",
      "source": [
        "animals = [\"dog\", \"cat\", \"cow\", \"lion\", \"tiger\"]\n",
        "for i in range(0, 3):\n",
        "  print(animals[i])\n",
        ""
      ],
      "metadata": {
        "colab": {
          "base_uri": "https://localhost:8080/"
        },
        "id": "LC8nPwaUd0tD",
        "outputId": "8b635ce4-4953-4b3d-f397-fb523ec7c67a"
      },
      "execution_count": 17,
      "outputs": [
        {
          "output_type": "stream",
          "name": "stdout",
          "text": [
            "dog\n",
            "cat\n",
            "cow\n"
          ]
        }
      ]
    },
    {
      "cell_type": "code",
      "source": [
        "for i in range(1, 50):\n",
        "  if i % 5 == 0:\n",
        "    print(i)\n",
        ""
      ],
      "metadata": {
        "colab": {
          "base_uri": "https://localhost:8080/"
        },
        "id": "orG9vO51epP8",
        "outputId": "ae7e1155-13df-4e5a-8d3a-632dc5578946"
      },
      "execution_count": 18,
      "outputs": [
        {
          "output_type": "stream",
          "name": "stdout",
          "text": [
            "5\n",
            "10\n",
            "15\n",
            "20\n",
            "25\n",
            "30\n",
            "35\n",
            "40\n",
            "45\n"
          ]
        }
      ]
    },
    {
      "cell_type": "code",
      "metadata": {
        "colab": {
          "base_uri": "https://localhost:8080/"
        },
        "id": "a7ecbee8",
        "outputId": "96365734-9bd9-4b4f-c7f9-df33abd57ee1"
      },
      "source": [
        "numbers = [2, 5, 7, 10, 15]\n",
        "\n",
        "for number in numbers:\n",
        "  if number % 2 == 0:\n",
        "    print(number)\n",
        ""
      ],
      "execution_count": 19,
      "outputs": [
        {
          "output_type": "stream",
          "name": "stdout",
          "text": [
            "2\n",
            "10\n"
          ]
        }
      ]
    },
    {
      "cell_type": "code",
      "metadata": {
        "colab": {
          "base_uri": "https://localhost:8080/"
        },
        "id": "10cc1295",
        "outputId": "e8a00507-f146-4a71-d33c-87560186cbb2"
      },
      "source": [
        "for i in range(1, 11):\n",
        "  print(f\"7 x {i} = {7 * i}\")\n",
        ""
      ],
      "execution_count": 20,
      "outputs": [
        {
          "output_type": "stream",
          "name": "stdout",
          "text": [
            "7 x 1 = 7\n",
            "7 x 2 = 14\n",
            "7 x 3 = 21\n",
            "7 x 4 = 28\n",
            "7 x 5 = 35\n",
            "7 x 6 = 42\n",
            "7 x 7 = 49\n",
            "7 x 8 = 56\n",
            "7 x 9 = 63\n",
            "7 x 10 = 70\n"
          ]
        }
      ]
    },
    {
      "cell_type": "code",
      "source": [
        "My_Name = \"Isha Gupta\"\n",
        "print(My_Name.upper())\n",
        "print(My_Name[0:4])"
      ],
      "metadata": {
        "colab": {
          "base_uri": "https://localhost:8080/"
        },
        "id": "KV_lRd5zoEs5",
        "outputId": "dd874b8f-54c0-450c-bd30-a594a348fb72"
      },
      "execution_count": 22,
      "outputs": [
        {
          "output_type": "stream",
          "name": "stdout",
          "text": [
            "ISHA GUPTA\n",
            "Isha\n"
          ]
        }
      ]
    },
    {
      "cell_type": "code",
      "metadata": {
        "colab": {
          "base_uri": "https://localhost:8080/"
        },
        "id": "d0bd997c",
        "outputId": "09606212-0e99-45bf-f18a-5f79bb7d8e4b"
      },
      "source": [
        "My_Name = \"Isha Gupta\"  # Assign the name to a variable\n",
        "count = 0  # Initialize a counter for letters\n",
        "for letter in My_Name:  # Iterate through each character in the name\n",
        "  if letter != \" \":  # Check if the character is not a space\n",
        "    count += 1  # If it's not a space, increment the counter\n",
        "print(\"The number of letters without spaces is:\", count) # Print the final count\n"
      ],
      "execution_count": 24,
      "outputs": [
        {
          "output_type": "stream",
          "name": "stdout",
          "text": [
            "The number of letters without spaces is: 9\n"
          ]
        }
      ]
    },
    {
      "cell_type": "code",
      "metadata": {
        "colab": {
          "base_uri": "https://localhost:8080/"
        },
        "id": "8a9eeb06",
        "outputId": "32e6e8d0-bb76-49e9-afbf-61dbbff5bd04"
      },
      "source": [
        "My_Name = \"Isha Gupta\"\n",
        "for letter in My_Name:\n",
        "  print(letter)"
      ],
      "execution_count": 25,
      "outputs": [
        {
          "output_type": "stream",
          "name": "stdout",
          "text": [
            "I\n",
            "s\n",
            "h\n",
            "a\n",
            " \n",
            "G\n",
            "u\n",
            "p\n",
            "t\n",
            "a\n"
          ]
        }
      ]
    },
    {
      "cell_type": "code",
      "source": [],
      "metadata": {
        "id": "BvTvVyskq2Gt"
      },
      "execution_count": null,
      "outputs": []
    }
  ]
}