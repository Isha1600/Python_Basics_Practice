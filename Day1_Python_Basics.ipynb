{
  "nbformat": 4,
  "nbformat_minor": 0,
  "metadata": {
    "colab": {
      "provenance": [],
      "authorship_tag": "ABX9TyONzq3ECNnCfdVUlT1CfppN",
      "include_colab_link": true
    },
    "kernelspec": {
      "name": "python3",
      "display_name": "Python 3"
    },
    "language_info": {
      "name": "python"
    }
  },
  "cells": [
    {
      "cell_type": "markdown",
      "metadata": {
        "id": "view-in-github",
        "colab_type": "text"
      },
      "source": [
        "<a href=\"https://colab.research.google.com/github/Isha1600/Python_Basics_Practice/blob/main/Day1_Python_Basics.ipynb\" target=\"_parent\"><img src=\"https://colab.research.google.com/assets/colab-badge.svg\" alt=\"Open In Colab\"/></a>"
      ]
    },
    {
      "cell_type": "code",
      "execution_count": null,
      "metadata": {
        "colab": {
          "base_uri": "https://localhost:8080/"
        },
        "id": "ncZpBuRaIROP",
        "outputId": "abe0a953-5016-4d91-9141-dd5c741e1a98"
      },
      "outputs": [
        {
          "output_type": "stream",
          "name": "stdout",
          "text": [
            "Hello Isha, welcome to Python!\n"
          ]
        }
      ],
      "source": [
        "print(\"Hello Isha, welcome to Python!\")\n"
      ]
    },
    {
      "cell_type": "code",
      "source": [
        "name = \"Isha\"\n",
        "age = 25\n",
        "print(\"My name is\", name)\n",
        "print(\"My age is\", age)\n"
      ],
      "metadata": {
        "colab": {
          "base_uri": "https://localhost:8080/"
        },
        "id": "bzRsn0-NImRN",
        "outputId": "139fa851-51b9-404c-bf40-0ca30c6ea6c5"
      },
      "execution_count": null,
      "outputs": [
        {
          "output_type": "stream",
          "name": "stdout",
          "text": [
            "My name is Isha\n",
            "My age is 25\n"
          ]
        }
      ]
    },
    {
      "cell_type": "code",
      "source": [
        "a = 5\n",
        "b = 3\n",
        "sum = a + b\n",
        "print(\"Sum is\", sum)\n"
      ],
      "metadata": {
        "colab": {
          "base_uri": "https://localhost:8080/"
        },
        "id": "DL0W91JCItiD",
        "outputId": "9bf85981-7272-47df-b233-b9856c563bfe"
      },
      "execution_count": null,
      "outputs": [
        {
          "output_type": "stream",
          "name": "stdout",
          "text": [
            "Sum is 8\n"
          ]
        }
      ]
    },
    {
      "cell_type": "code",
      "source": [
        "a = 15\n",
        "b = 20\n",
        "sum = a + b\n",
        "print(\"Sum is\", sum)"
      ],
      "metadata": {
        "colab": {
          "base_uri": "https://localhost:8080/"
        },
        "id": "dw9Mk6-fK4TG",
        "outputId": "7afe02dc-8f23-48ee-bc54-66841f91e47c"
      },
      "execution_count": null,
      "outputs": [
        {
          "output_type": "stream",
          "name": "stdout",
          "text": [
            "Sum is 35\n"
          ]
        }
      ]
    },
    {
      "cell_type": "code",
      "source": [
        "name = \"Tina\"\n",
        "age = \"22\"\n",
        "print(\"My best friend name is\", name + \" and she is\", age + \" years old\")"
      ],
      "metadata": {
        "colab": {
          "base_uri": "https://localhost:8080/"
        },
        "id": "PfDsD9B-LJU9",
        "outputId": "f1903095-ab39-4751-e508-ac89be8458cc"
      },
      "execution_count": null,
      "outputs": [
        {
          "output_type": "stream",
          "name": "stdout",
          "text": [
            "My best friend name is Tina and she is 22 years old\n"
          ]
        }
      ]
    },
    {
      "cell_type": "code",
      "source": [
        "a = 7\n",
        "b = 4\n",
        "print(\"Sum = a + b = \", a + b)\n",
        "print(\"Subtraction = a - b = \", a - b)\n",
        "print(\"Multiplication = a * b = \", a * b)\n",
        "print(\"Divison = a / b = \", a / b)\n",
        "print(\"Modulus = a % b = \", a % b)\n",
        "print(\"Exponent = a ** b = \", a ** b)\n",
        "print(\"Floor Division = a // b = \", a // b)"
      ],
      "metadata": {
        "colab": {
          "base_uri": "https://localhost:8080/"
        },
        "id": "owDDQVozb2Vm",
        "outputId": "79da54fa-2730-47e2-e0dd-6eea5e880f33"
      },
      "execution_count": null,
      "outputs": [
        {
          "output_type": "stream",
          "name": "stdout",
          "text": [
            "Sum = a + b =  11\n",
            "Subtraction = a - b =  3\n",
            "Multiplication = a * b =  28\n",
            "Divison = a / b =  1.75\n",
            "Modulus = a % b =  3\n",
            "Exponent = a ** b =  2401\n",
            "Floor Division = a // b =  1\n"
          ]
        }
      ]
    },
    {
      "cell_type": "code",
      "source": [
        "color = \"lavender\"\n",
        "print(\"My Favourite color is\", color)"
      ],
      "metadata": {
        "colab": {
          "base_uri": "https://localhost:8080/"
        },
        "id": "t61KSrlXdd1Z",
        "outputId": "8063b409-c864-42c7-a3ca-483787d60d41"
      },
      "execution_count": null,
      "outputs": [
        {
          "output_type": "stream",
          "name": "stdout",
          "text": [
            "My Favourite color is lavender\n"
          ]
        }
      ]
    }
  ]
}